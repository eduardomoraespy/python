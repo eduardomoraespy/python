{
  "nbformat": 4,
  "nbformat_minor": 0,
  "metadata": {
    "colab": {
      "name": "teste_JSON.ipynb",
      "provenance": [],
      "authorship_tag": "ABX9TyOAmV1/w8cR/UZDUFmmt1cq"
    },
    "kernelspec": {
      "name": "python3",
      "display_name": "Python 3"
    },
    "language_info": {
      "name": "python"
    }
  },
  "cells": [
    {
      "cell_type": "code",
      "metadata": {
        "id": "BALBgtEut86M"
      },
      "source": [
        "import json"
      ],
      "execution_count": 1,
      "outputs": []
    },
    {
      "cell_type": "code",
      "metadata": {
        "id": "o1Xao5FYwODv"
      },
      "source": [
        "# Criando Json\n",
        "\n",
        "# Perceba que e bastante semelhante com a sintaxe de um dict\n",
        "aeronaves_json = '{\"Fabricante\":\"Embraer\",\"Modelo\":\"Phenom 300\",\"Peso\":\"6350kg\"}'\n",
        "  "
      ],
      "execution_count": 14,
      "outputs": []
    },
    {
      "cell_type": "code",
      "metadata": {
        "colab": {
          "base_uri": "https://localhost:8080/"
        },
        "id": "hBFj5m26-a64",
        "outputId": "ef3566d0-eaf1-42b9-861a-804268deea7a"
      },
      "source": [
        "print(type(aeronaves_json))"
      ],
      "execution_count": 26,
      "outputs": [
        {
          "output_type": "stream",
          "text": [
            "<class 'str'>\n"
          ],
          "name": "stdout"
        }
      ]
    },
    {
      "cell_type": "code",
      "metadata": {
        "id": "PmvVomxPzBDi"
      },
      "source": [
        "# Carregando a varivel que recebeu um json. O método loads()\n",
        "# Vai carregar Aeronaves_json e transformar numa string/dict\n",
        "\n",
        "aeronaves = json.loads(aeronaves_json)"
      ],
      "execution_count": 15,
      "outputs": []
    },
    {
      "cell_type": "code",
      "metadata": {
        "colab": {
          "base_uri": "https://localhost:8080/"
        },
        "id": "hg4Tn5kP1SFP",
        "outputId": "27481729-b83f-422e-95f2-713d247b0b4c"
      },
      "source": [
        "print(aeronaves)"
      ],
      "execution_count": 16,
      "outputs": [
        {
          "output_type": "stream",
          "text": [
            "{'Fabricante': 'Embraer', 'Modelo': 'Phenom 300', 'Peso': '6350kg'}\n"
          ],
          "name": "stdout"
        }
      ]
    },
    {
      "cell_type": "code",
      "metadata": {
        "colab": {
          "base_uri": "https://localhost:8080/"
        },
        "id": "X-MJQxZ_-Tcp",
        "outputId": "ac6f3c0d-e8da-4544-dceb-05853e799a4e"
      },
      "source": [
        "print(type(aeronaves))"
      ],
      "execution_count": 25,
      "outputs": [
        {
          "output_type": "stream",
          "text": [
            "<class 'dict'>\n"
          ],
          "name": "stdout"
        }
      ]
    },
    {
      "cell_type": "code",
      "metadata": {
        "colab": {
          "base_uri": "https://localhost:8080/",
          "height": 35
        },
        "id": "LDpw5y8G1glG",
        "outputId": "c977a96c-7533-4878-9ddf-1f60ce416246"
      },
      "source": [
        "# Manipulando json\n",
        "\n",
        "aeronaves['Fabricante']"
      ],
      "execution_count": 17,
      "outputs": [
        {
          "output_type": "execute_result",
          "data": {
            "application/vnd.google.colaboratory.intrinsic+json": {
              "type": "string"
            },
            "text/plain": [
              "'Embraer'"
            ]
          },
          "metadata": {
            "tags": []
          },
          "execution_count": 17
        }
      ]
    },
    {
      "cell_type": "code",
      "metadata": {
        "colab": {
          "base_uri": "https://localhost:8080/"
        },
        "id": "eGHGCwYg1oyA",
        "outputId": "0433c96b-1bcc-44d5-d261-0eb715f75e6f"
      },
      "source": [
        "for k, v in aeronaves.items():\n",
        "  print(f'{k} -- {v}')"
      ],
      "execution_count": 19,
      "outputs": [
        {
          "output_type": "stream",
          "text": [
            "Fabricante -- Embraer\n",
            "Modelo -- Phenom 300\n",
            "Peso -- 6350kg\n"
          ],
          "name": "stdout"
        }
      ]
    },
    {
      "cell_type": "code",
      "metadata": {
        "id": "lEstkKOd8yxk"
      },
      "source": [
        "# Convertendo dict em json\n",
        "\n",
        "grupo_aeronaves = {\n",
        "  \"Fabricante\":\"Embraer\",\n",
        "  \"Modelo\":\"Phenom 300\",\n",
        "  \"Peso\":\"6350kg\"\n",
        "}\n",
        "\n",
        "# O Método dumps() serve para converter um dict em json\n",
        "grupo_aeronaves_json = json.dumps(grupo_aeronaves)"
      ],
      "execution_count": 22,
      "outputs": []
    },
    {
      "cell_type": "code",
      "metadata": {
        "colab": {
          "base_uri": "https://localhost:8080/"
        },
        "id": "MKWsRjta9-Nn",
        "outputId": "e0e75c11-5957-4d7e-e02b-e379781c4635"
      },
      "source": [
        "print(grupo_aeronaves_json)"
      ],
      "execution_count": 23,
      "outputs": [
        {
          "output_type": "stream",
          "text": [
            "{\"Fabricante\": \"Embraer\", \"Modelo\": \"Phenom 300\", \"Peso\": \"6350kg\"}\n"
          ],
          "name": "stdout"
        }
      ]
    },
    {
      "cell_type": "code",
      "metadata": {
        "colab": {
          "base_uri": "https://localhost:8080/"
        },
        "id": "7joOsgZv-DpD",
        "outputId": "0ded1570-9d1d-4132-fb12-d7bba260caf4"
      },
      "source": [
        "print(type(grupo_aeronaves_json))"
      ],
      "execution_count": 24,
      "outputs": [
        {
          "output_type": "stream",
          "text": [
            "<class 'str'>\n"
          ],
          "name": "stdout"
        }
      ]
    }
  ]
}