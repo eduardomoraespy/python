{
  "nbformat": 4,
  "nbformat_minor": 0,
  "metadata": {
    "colab": {
      "name": "calendario.ipynb",
      "provenance": [],
      "authorship_tag": "ABX9TyM82nIA3aAJsHMwuvPbbFFM"
    },
    "kernelspec": {
      "name": "python3",
      "display_name": "Python 3"
    },
    "language_info": {
      "name": "python"
    }
  },
  "cells": [
    {
      "cell_type": "markdown",
      "metadata": {
        "id": "Z_9Ub8QFa2zh"
      },
      "source": [
        "### Calendário em Python"
      ]
    },
    {
      "cell_type": "code",
      "metadata": {
        "id": "Bch_Uh7CayUB"
      },
      "source": [
        "import calendar"
      ],
      "execution_count": 1,
      "outputs": []
    },
    {
      "cell_type": "code",
      "metadata": {
        "id": "j67qJKVRb0yd"
      },
      "source": [
        "dir(calendar)"
      ],
      "execution_count": null,
      "outputs": []
    },
    {
      "cell_type": "code",
      "metadata": {
        "id": "DZX_SLgbbKk_"
      },
      "source": [
        "year = 2021\n",
        "month = 7"
      ],
      "execution_count": 4,
      "outputs": []
    },
    {
      "cell_type": "code",
      "metadata": {
        "colab": {
          "base_uri": "https://localhost:8080/"
        },
        "id": "WKIiEIdObftk",
        "outputId": "78e6ce88-2fba-4ac3-ac34-c9770548127e"
      },
      "source": [
        "print(calendar.month(year, month))"
      ],
      "execution_count": 6,
      "outputs": [
        {
          "output_type": "stream",
          "text": [
            "     July 2021\n",
            "Mo Tu We Th Fr Sa Su\n",
            "          1  2  3  4\n",
            " 5  6  7  8  9 10 11\n",
            "12 13 14 15 16 17 18\n",
            "19 20 21 22 23 24 25\n",
            "26 27 28 29 30 31\n",
            "\n"
          ],
          "name": "stdout"
        }
      ]
    }
  ]
}