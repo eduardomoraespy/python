{
  "nbformat": 4,
  "nbformat_minor": 0,
  "metadata": {
    "colab": {
      "name": "Bucador_info_wikipedia.ipynb",
      "provenance": [],
      "authorship_tag": "ABX9TyOuZcH7asvUVRdngl/MRY2Q"
    },
    "kernelspec": {
      "name": "python3",
      "display_name": "Python 3"
    },
    "language_info": {
      "name": "python"
    }
  },
  "cells": [
    {
      "cell_type": "code",
      "metadata": {
        "id": "mzOO3he_re86"
      },
      "source": [
        "#!pip install wikipedia"
      ],
      "execution_count": null,
      "outputs": []
    },
    {
      "cell_type": "markdown",
      "metadata": {
        "id": "eanPJWO11IbD"
      },
      "source": [
        "### Buscador de Assuntos Wikipedia"
      ]
    },
    {
      "cell_type": "code",
      "metadata": {
        "id": "qtNATrz-rEOX"
      },
      "source": [
        "import wikipedia"
      ],
      "execution_count": 8,
      "outputs": []
    },
    {
      "cell_type": "code",
      "metadata": {
        "id": "pEYUw2bQuxZj",
        "colab": {
          "base_uri": "https://localhost:8080/"
        },
        "outputId": "2264dab8-ff50-452e-edab-e4cc3bfa6764"
      },
      "source": [
        "# Objeto para receber entrada (assunto que o usuário quer pesquisar)\n",
        "texto = input('Digite o texto para a busca: ')"
      ],
      "execution_count": 9,
      "outputs": [
        {
          "output_type": "stream",
          "text": [
            "Digite o texto para a busca: embedded system\n"
          ],
          "name": "stdout"
        }
      ]
    },
    {
      "cell_type": "code",
      "metadata": {
        "id": "wa5jvzOCxEzp"
      },
      "source": [
        "# Objeto relacionados recebe o método search que tem como parâmentro entrada do usuário e results é opcional\n",
        "# por padrão results é 10.\n",
        "relacionados = wikipedia.search(texto, results=20)"
      ],
      "execution_count": 10,
      "outputs": []
    },
    {
      "cell_type": "code",
      "metadata": {
        "id": "Tmf0LG8nw4uE",
        "colab": {
          "base_uri": "https://localhost:8080/"
        },
        "outputId": "6115616b-47ee-4e94-829d-341f3d19660e"
      },
      "source": [
        "# percorrendo objeto relacionados\n",
        "for index, value in enumerate(relacionados):\n",
        "  print(f'{index+1}º Resultado: {value}')"
      ],
      "execution_count": 11,
      "outputs": [
        {
          "output_type": "stream",
          "text": [
            "1º Resultado: Embedded system\n",
            "2º Resultado: Embedded operating system\n",
            "3º Resultado: Linux on embedded systems\n",
            "4º Resultado: Windows Embedded Industry\n",
            "5º Resultado: Embedded software\n",
            "6º Resultado: Windows IoT\n",
            "7º Resultado: Windows Embedded Compact\n",
            "8º Resultado: Embedded C\n",
            "9º Resultado: System on a chip\n",
            "10º Resultado: Embedded\n",
            "11º Resultado: Embedded database\n",
            "12º Resultado: Operating system\n",
            "13º Resultado: Embedded Java\n",
            "14º Resultado: Embedded System Module\n",
            "15º Resultado: Linux\n",
            "16º Resultado: Hypervisor\n",
            "17º Resultado: Aerial Reconfigurable Embedded System\n",
            "18º Resultado: Application binary interface\n",
            "19º Resultado: Cyber-physical system\n",
            "20º Resultado: Applications of UML\n"
          ],
          "name": "stdout"
        }
      ]
    },
    {
      "cell_type": "code",
      "metadata": {
        "id": "sCMyaZ4Z5kp6",
        "colab": {
          "base_uri": "https://localhost:8080/"
        },
        "outputId": "9523f0bd-e71a-4dac-8920-a5b9184fb2bd"
      },
      "source": [
        "# Escolher assunto\n",
        "choice = int(input('Escolha um numero de 1 à 20: '))\n",
        "choice -= 1\n",
        "print(f'\\n\\n\\nAssunto escolhido foi {choice}: {relacionados[choice]}')"
      ],
      "execution_count": 16,
      "outputs": [
        {
          "output_type": "stream",
          "text": [
            "Escolha um numero de 1 à 20: 17\n",
            "\n",
            "\n",
            "\n",
            "Assunto escolhido foi 16: Aerial Reconfigurable Embedded System\n"
          ],
          "name": "stdout"
        }
      ]
    },
    {
      "cell_type": "code",
      "metadata": {
        "id": "Wlfiim1hu82T"
      },
      "source": [
        "# objeto resultado recebe método summary para mostrar texto sobre o assunto escolhido.\n",
        "resultado = wikipedia.summary(relacionados[choice])"
      ],
      "execution_count": 17,
      "outputs": []
    },
    {
      "cell_type": "code",
      "metadata": {
        "id": "q3-EBGtmvIIJ",
        "colab": {
          "base_uri": "https://localhost:8080/"
        },
        "outputId": "3b824495-d7e6-4521-b7c4-f44330aaf158"
      },
      "source": [
        "# Imprime resultado (assunto escolhido pelo usuário)\n",
        "print(f'Assunto: {relacionados[choice]}\\n\\n {resultado}')"
      ],
      "execution_count": 18,
      "outputs": [
        {
          "output_type": "stream",
          "text": [
            "Assunto: Aerial Reconfigurable Embedded System\n",
            "\n",
            " The Aerial Reconfigurable Embedded System (ARES) was a concept for an unmanned VTOL flight module that can transport various payloads. The concept started as the TX (Transformer) in 2009 for a terrain-independent transportation system centered on a ground vehicle that could be configured into a VTOL air vehicle and carry four troops.  ARES' primary function was the same as TX, to use flight to avoid ground-based transportation threats like ambushes and IEDs for units that don't have helicopters for those missions.  It was to be powered by twin tilting ducted fans and have its own power system, fuel, digital flight controls, and remote command-and-control interfaces.  The flight module would have different detachable mission modules for specific purposes including cargo delivery, CASEVAC, and ISR.  Up to 3,000 lb (1,400 kg) of payload would be carried by a module.In May 2019, DARPA cancelled the ARES research effort due to significant cost growth and delays.\n"
          ],
          "name": "stdout"
        }
      ]
    }
  ]
}