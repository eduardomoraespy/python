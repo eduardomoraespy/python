{
  "nbformat": 4,
  "nbformat_minor": 0,
  "metadata": {
    "colab": {
      "name": "Bucador_info_wikipedia.ipynb",
      "provenance": [],
      "authorship_tag": "ABX9TyMDWOH7njovEQxJXf7tRB6V"
    },
    "kernelspec": {
      "name": "python3",
      "display_name": "Python 3"
    },
    "language_info": {
      "name": "python"
    }
  },
  "cells": [
    {
      "cell_type": "code",
      "metadata": {
        "colab": {
          "base_uri": "https://localhost:8080/"
        },
        "id": "mzOO3he_re86",
        "outputId": "cf954174-08dd-40c4-c6b6-0e96ecb42627"
      },
      "source": [
        "!pip install wikipedia"
      ],
      "execution_count": 31,
      "outputs": [
        {
          "output_type": "stream",
          "text": [
            "Requirement already satisfied: wikipedia in /usr/local/lib/python3.7/dist-packages (1.4.0)\n",
            "Requirement already satisfied: requests<3.0.0,>=2.0.0 in /usr/local/lib/python3.7/dist-packages (from wikipedia) (2.23.0)\n",
            "Requirement already satisfied: beautifulsoup4 in /usr/local/lib/python3.7/dist-packages (from wikipedia) (4.6.3)\n",
            "Requirement already satisfied: urllib3!=1.25.0,!=1.25.1,<1.26,>=1.21.1 in /usr/local/lib/python3.7/dist-packages (from requests<3.0.0,>=2.0.0->wikipedia) (1.24.3)\n",
            "Requirement already satisfied: idna<3,>=2.5 in /usr/local/lib/python3.7/dist-packages (from requests<3.0.0,>=2.0.0->wikipedia) (2.10)\n",
            "Requirement already satisfied: certifi>=2017.4.17 in /usr/local/lib/python3.7/dist-packages (from requests<3.0.0,>=2.0.0->wikipedia) (2021.5.30)\n",
            "Requirement already satisfied: chardet<4,>=3.0.2 in /usr/local/lib/python3.7/dist-packages (from requests<3.0.0,>=2.0.0->wikipedia) (3.0.4)\n"
          ],
          "name": "stdout"
        }
      ]
    },
    {
      "cell_type": "markdown",
      "metadata": {
        "id": "eanPJWO11IbD"
      },
      "source": [
        "### Buscador de Assuntos Wikipedia"
      ]
    },
    {
      "cell_type": "code",
      "metadata": {
        "id": "qtNATrz-rEOX"
      },
      "source": [
        "import wikipedia"
      ],
      "execution_count": 32,
      "outputs": []
    },
    {
      "cell_type": "code",
      "metadata": {
        "colab": {
          "base_uri": "https://localhost:8080/"
        },
        "id": "pEYUw2bQuxZj",
        "outputId": "732ced06-e253-4f36-cd0c-5a920e7539c0"
      },
      "source": [
        "texto = input('Digite o texto para a busca: ')"
      ],
      "execution_count": 33,
      "outputs": [
        {
          "output_type": "stream",
          "text": [
            "Digite o texto para a busca: embedded systems\n"
          ],
          "name": "stdout"
        }
      ]
    },
    {
      "cell_type": "code",
      "metadata": {
        "id": "wa5jvzOCxEzp"
      },
      "source": [
        "relacionados = wikipedia.search(texto)"
      ],
      "execution_count": 48,
      "outputs": []
    },
    {
      "cell_type": "code",
      "metadata": {
        "colab": {
          "base_uri": "https://localhost:8080/"
        },
        "id": "Tmf0LG8nw4uE",
        "outputId": "1f936e0c-24a8-413c-9032-7b91b337b522"
      },
      "source": [
        "for index, value in enumerate(relacionados):\n",
        "  print(f'{index+1}º Resultado: {value}')"
      ],
      "execution_count": 58,
      "outputs": [
        {
          "output_type": "stream",
          "text": [
            "1º Resultado: Embedded system\n",
            "2º Resultado: Linux on embedded systems\n",
            "3º Resultado: Embedded operating system\n",
            "4º Resultado: Embedded software\n",
            "5º Resultado: Windows IoT\n",
            "6º Resultado: Embedded C\n",
            "7º Resultado: Windows Embedded Compact\n",
            "8º Resultado: Operating system\n",
            "9º Resultado: Hypervisor\n",
            "10º Resultado: Windows Embedded Industry\n"
          ],
          "name": "stdout"
        }
      ]
    },
    {
      "cell_type": "code",
      "metadata": {
        "id": "Wlfiim1hu82T"
      },
      "source": [
        "resultado = wikipedia.summary(texto)"
      ],
      "execution_count": 34,
      "outputs": []
    },
    {
      "cell_type": "code",
      "metadata": {
        "colab": {
          "base_uri": "https://localhost:8080/"
        },
        "id": "q3-EBGtmvIIJ",
        "outputId": "b04ec636-e0cc-4aab-ff0c-bd9980647941"
      },
      "source": [
        "print(resultado)"
      ],
      "execution_count": 35,
      "outputs": [
        {
          "output_type": "stream",
          "text": [
            "An embedded system is a computer system—a combination of a computer processor, computer memory, and input/output peripheral devices—that has a dedicated function within a larger mechanical or electronic system. It is embedded as part of a complete device often including electrical or electronic hardware and mechanical parts. \n",
            "Because an embedded system typically controls physical operations of the machine that it is embedded within, it often has real-time computing constraints.  Embedded systems control many devices in common use today. In 2009 it was estimated that ninety-eight percent of all microprocessors manufactured were used in embedded systems.Modern embedded systems are often based on microcontrollers (i.e. microprocessors with integrated memory and peripheral interfaces), but ordinary microprocessors (using external chips for memory and peripheral interface circuits) are also common, especially in more complex systems. In either case, the processor(s) used may be types ranging from general purpose to those specialized in a certain class of computations, or even custom designed for the application at hand. A common standard class of dedicated processors is the digital signal processor (DSP).\n",
            "Since the embedded system is dedicated to specific tasks, design engineers can optimize it to reduce the size and cost of the product and increase the reliability and performance. Some embedded systems are mass-produced, benefiting from economies of scale.\n",
            "Embedded systems range from portable devices such as digital watches and MP3 players, to large stationary installations like traffic light controllers, programmable logic controllers, and large complex systems like hybrid vehicles, medical imaging systems, and avionics. Complexity varies from low, with a single microcontroller chip, to very high with multiple units, peripherals and networks mounted inside a large equipment rack.\n"
          ],
          "name": "stdout"
        }
      ]
    },
    {
      "cell_type": "code",
      "metadata": {
        "id": "zp4spY0Wyo7N"
      },
      "source": [
        "for index in range(len(relacionados)):\n",
        "  print(index)"
      ],
      "execution_count": null,
      "outputs": []
    }
  ]
}